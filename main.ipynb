{
 "cells": [
  {
   "cell_type": "code",
   "execution_count": 4,
   "metadata": {},
   "outputs": [
    {
     "data": {
      "text/plain": [
       "' habit the effect effect its its the off practition� was disinteg in and purpose the itself habit habit bus the the string effect habit of its theÃÂÃÂÃÂÃÂÃÂÃÂÃÂÃÂÃÂÃÂÃÂÃÂÃÂÃÂÃÂÃÂ�'"
      ]
     },
     "execution_count": 4,
     "metadata": {},
     "output_type": "execute_result"
    }
   ],
   "source": [
    "from transformers import GPT2Tokenizer\n",
    "\n",
    "tokenizer = GPT2Tokenizer.from_pretrained(\"gpt2\")\n",
    "tokenizer.decode([ 7947,   262,  1245,  1245,   663,   663,   262,   572, 17629,   180,\n",
    "           373, 29930,   287,   290,  4007,   262,  2346,  7947,  7947,  1323,\n",
    "           262,   262,  4731,  1245,  7947,   286,   663,   262, 23090,   186])"
   ]
  }
 ],
 "metadata": {
  "kernelspec": {
   "display_name": "Python 3.8.18 ('torch18')",
   "language": "python",
   "name": "python3"
  },
  "language_info": {
   "codemirror_mode": {
    "name": "ipython",
    "version": 3
   },
   "file_extension": ".py",
   "mimetype": "text/x-python",
   "name": "python",
   "nbconvert_exporter": "python",
   "pygments_lexer": "ipython3",
   "version": "3.8.18"
  },
  "orig_nbformat": 4,
  "vscode": {
   "interpreter": {
    "hash": "abd70ae60c8c2833e63aace0b7493006069f8b3061f34fc51f7cc8e79bdf7e24"
   }
  }
 },
 "nbformat": 4,
 "nbformat_minor": 2
}
